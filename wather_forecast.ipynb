{
 "cells": [
  {
   "cell_type": "code",
   "execution_count": 1,
   "metadata": {},
   "outputs": [],
   "source": [
    "import requests\n",
    "import json\n",
    "lat = '53.3331'\n",
    "long = '-6.2489'\n",
    "API = '3bb980e89cfe2a2a202773ebe12144e7'\n",
    "url = f\"https://api.openweathermap.org/data/3.0/weather?lat={lat}&lon={long}&appid={API}\"\n",
    "response = requests.get(url)\n",
    "\n",
    "if response.status_code == 200:\n",
    "  data = json.loads(response.text)\n",
    "  print(data)"
   ]
  },
  {
   "cell_type": "code",
   "execution_count": null,
   "metadata": {},
   "outputs": [],
   "source": [
    "data = f\"https://api.openweathermap.org/data/3.0/onecall?lat={lat}&lon={lon}&exclude={part}&appid={API}\""
   ]
  },
  {
   "cell_type": "code",
   "execution_count": 2,
   "metadata": {},
   "outputs": [],
   "source": [
    "import requests\n",
    "import json\n",
    "\n",
    "lat = '53.3331'\n",
    "long = '-6.2489'\n",
    "API = 'a37a07cbf2bc3b515c70896114b16f87'\n",
    "\n",
    "def get_open_weather(lat, long):\n",
    "    API = 'a37a07cbf2bc3b515c70896114b16f87'\n",
    "    url = f\"https://api.openweathermap.org/data/3.0/onecall?lat={lat}&lon={long}&exclude=current&appid={API}\"\n",
    "    response = requests.get(url)\n",
    "    print(json.loads(response.text))\n",
    "\n",
    "    if response.status_code == 200:\n",
    "        data = json.loads(response.text)\n",
    "        print(data)\n",
    "    #     data = {\n",
    "    #     'user': None,\n",
    "    #     'lat': lat,\n",
    "    #     'long': long,\n",
    "    #     'temp': data['main']['temp'],\n",
    "    #     'feels_like': data['main']['feels_like'],\n",
    "    #     'temp_min': data['main']['temp_min'],\n",
    "    #     'temp_max': data['main']['temp_max'],\n",
    "    #     'pressure': data['main']['pressure'],\n",
    "    #     'humidity': data['main']['humidity'],\n",
    "    #     'visibility': data['visibility'],\n",
    "    #     'wind_speed': data['wind']['speed'],\n",
    "    #     'wind_deg': data['wind']['deg'],\n",
    "    #     'clouds_all': data['clouds']['all'],\n",
    "    #     'sunrise': data['sys']['sunrise'],\n",
    "    #     'sunset': data['sys']['sunset']\n",
    "    # }\n",
    "    return data"
   ]
  },
  {
   "cell_type": "code",
   "execution_count": 3,
   "metadata": {},
   "outputs": [
    {
     "name": "stdout",
     "output_type": "stream",
     "text": [
      "{'cod': 401, 'message': 'Please note that using One Call 3.0 requires a separate subscription to the One Call by Call plan. Learn more here https://openweathermap.org/price. If you have a valid subscription to the One Call by Call plan, but still receive this error, then please see https://openweathermap.org/faq#error401 for more info.'}\n"
     ]
    },
    {
     "ename": "UnboundLocalError",
     "evalue": "cannot access local variable 'data' where it is not associated with a value",
     "output_type": "error",
     "traceback": [
      "\u001b[1;31m---------------------------------------------------------------------------\u001b[0m",
      "\u001b[1;31mUnboundLocalError\u001b[0m                         Traceback (most recent call last)",
      "Cell \u001b[1;32mIn[3], line 1\u001b[0m\n\u001b[1;32m----> 1\u001b[0m \u001b[43mget_open_weather\u001b[49m\u001b[43m(\u001b[49m\u001b[38;5;124;43m'\u001b[39;49m\u001b[38;5;124;43m53.3331\u001b[39;49m\u001b[38;5;124;43m'\u001b[39;49m\u001b[43m,\u001b[49m\u001b[43m \u001b[49m\u001b[38;5;124;43m'\u001b[39;49m\u001b[38;5;124;43m-6.2489\u001b[39;49m\u001b[38;5;124;43m'\u001b[39;49m\u001b[43m)\u001b[49m\n",
      "Cell \u001b[1;32mIn[2], line 34\u001b[0m, in \u001b[0;36mget_open_weather\u001b[1;34m(lat, long)\u001b[0m\n\u001b[0;32m     16\u001b[0m     \u001b[38;5;28mprint\u001b[39m(data)\n\u001b[0;32m     17\u001b[0m \u001b[38;5;66;03m#     data = {\u001b[39;00m\n\u001b[0;32m     18\u001b[0m \u001b[38;5;66;03m#     'user': None,\u001b[39;00m\n\u001b[0;32m     19\u001b[0m \u001b[38;5;66;03m#     'lat': lat,\u001b[39;00m\n\u001b[1;32m   (...)\u001b[0m\n\u001b[0;32m     32\u001b[0m \u001b[38;5;66;03m#     'sunset': data['sys']['sunset']\u001b[39;00m\n\u001b[0;32m     33\u001b[0m \u001b[38;5;66;03m# }\u001b[39;00m\n\u001b[1;32m---> 34\u001b[0m \u001b[38;5;28;01mreturn\u001b[39;00m \u001b[43mdata\u001b[49m\n",
      "\u001b[1;31mUnboundLocalError\u001b[0m: cannot access local variable 'data' where it is not associated with a value"
     ]
    }
   ],
   "source": [
    "get_open_weather('53.3331', '-6.2489')"
   ]
  },
  {
   "cell_type": "code",
   "execution_count": null,
   "metadata": {},
   "outputs": [],
   "source": [
    "row_data = {\n",
    "        'user': None,\n",
    "        'lat': lat,\n",
    "        'long': long,\n",
    "        'temp': data['main']['temp'],\n",
    "        'feels_like': data['main']['feels_like'],\n",
    "        'temp_min': data['main']['temp_min'],\n",
    "        'temp_max': data['main']['temp_max'],\n",
    "        'pressure': data['main']['pressure'],\n",
    "        'humidity': data['main']['humidity'],\n",
    "        'visibility': data['visibility'],\n",
    "        'wind_speed': data['wind']['speed'],\n",
    "        'wind_deg': data['wind']['deg'],\n",
    "        'clouds_all': data['clouds']['all'],\n",
    "        'sunrise': data['sys']['sunrise'],\n",
    "        'sunset': data['sys']['sunset']\n",
    "    }"
   ]
  },
  {
   "cell_type": "code",
   "execution_count": 2,
   "metadata": {},
   "outputs": [
    {
     "data": {
      "text/plain": [
       "'53.3331,-6.2489'"
      ]
     },
     "execution_count": 2,
     "metadata": {},
     "output_type": "execute_result"
    }
   ],
   "source": [
    "def get_location():\n",
    "    response = requests.get(\"http://ipinfo.io\")\n",
    "    data = response.json()\n",
    "    return data['loc']\n",
    "get_location()"
   ]
  },
  {
   "cell_type": "code",
   "execution_count": 22,
   "metadata": {},
   "outputs": [
    {
     "name": "stdout",
     "output_type": "stream",
     "text": [
      "283.09\n"
     ]
    }
   ],
   "source": [
    "print(data['main']['feels_like'])"
   ]
  },
  {
   "cell_type": "code",
   "execution_count": null,
   "metadata": {},
   "outputs": [],
   "source": [
    "import datetime\n",
    "\n",
    "def timestamp_to_datetime(timestamp):\n",
    "  \"\"\"Converts a timestamp (in seconds) to a datetime object.\"\"\"\n",
    "  dt_object = datetime.datetime.fromtimestamp(timestamp)\n",
    "  return dt_object\n",
    "\n",
    "def datetime_to_timestamp(dt_object):\n",
    "  \"\"\"Converts a datetime object to a timestamp (in seconds).\"\"\"\n",
    "  timestamp = dt_object.timestamp()\n",
    "  return timestamp\n",
    "\n",
    "# Example usage\n",
    "timestamp = 1586468027\n",
    "\n",
    "# Convert timestamp to datetime\n",
    "datetime_obj = timestamp_to_datetime(timestamp)\n",
    "print(\"Datetime:\", datetime_obj)  # Output: 2019-04-14 22:20:27\n",
    "\n",
    "# Convert datetime back to timestamp\n",
    "new_timestamp = datetime_to_timestamp(datetime_obj)\n",
    "print(\"Timestamp:\", new_timestamp)  # Output: 1586468027\n"
   ]
  },
  {
   "cell_type": "code",
   "execution_count": 1,
   "metadata": {},
   "outputs": [
    {
     "name": "stdout",
     "output_type": "stream",
     "text": [
      "{'lat': 53.3331, 'lon': -6.2489, 'timezone': 'Europe/Dublin', 'timezone_offset': 3600, 'minutely': [{'dt': 1717908180, 'precipitation': 0}, {'dt': 1717908240, 'precipitation': 0}, {'dt': 1717908300, 'precipitation': 0}, {'dt': 1717908360, 'precipitation': 0}, {'dt': 1717908420, 'precipitation': 0}, {'dt': 1717908480, 'precipitation': 0}, {'dt': 1717908540, 'precipitation': 0}, {'dt': 1717908600, 'precipitation': 0}, {'dt': 1717908660, 'precipitation': 0}, {'dt': 1717908720, 'precipitation': 0}, {'dt': 1717908780, 'precipitation': 0}, {'dt': 1717908840, 'precipitation': 0}, {'dt': 1717908900, 'precipitation': 0}, {'dt': 1717908960, 'precipitation': 0}, {'dt': 1717909020, 'precipitation': 0}, {'dt': 1717909080, 'precipitation': 0}, {'dt': 1717909140, 'precipitation': 0}, {'dt': 1717909200, 'precipitation': 0}, {'dt': 1717909260, 'precipitation': 0}, {'dt': 1717909320, 'precipitation': 0}, {'dt': 1717909380, 'precipitation': 0}, {'dt': 1717909440, 'precipitation': 0}, {'dt': 1717909500, 'precipitation': 0}, {'dt': 1717909560, 'precipitation': 0}, {'dt': 1717909620, 'precipitation': 0}, {'dt': 1717909680, 'precipitation': 0}, {'dt': 1717909740, 'precipitation': 0}, {'dt': 1717909800, 'precipitation': 0}, {'dt': 1717909860, 'precipitation': 0}, {'dt': 1717909920, 'precipitation': 0}, {'dt': 1717909980, 'precipitation': 0}, {'dt': 1717910040, 'precipitation': 0}, {'dt': 1717910100, 'precipitation': 0}, {'dt': 1717910160, 'precipitation': 0}, {'dt': 1717910220, 'precipitation': 0}, {'dt': 1717910280, 'precipitation': 0}, {'dt': 1717910340, 'precipitation': 0}, {'dt': 1717910400, 'precipitation': 0}, {'dt': 1717910460, 'precipitation': 0}, {'dt': 1717910520, 'precipitation': 0}, {'dt': 1717910580, 'precipitation': 0}, {'dt': 1717910640, 'precipitation': 0}, {'dt': 1717910700, 'precipitation': 0}, {'dt': 1717910760, 'precipitation': 0}, {'dt': 1717910820, 'precipitation': 0}, {'dt': 1717910880, 'precipitation': 0}, {'dt': 1717910940, 'precipitation': 0}, {'dt': 1717911000, 'precipitation': 0}, {'dt': 1717911060, 'precipitation': 0}, {'dt': 1717911120, 'precipitation': 0}, {'dt': 1717911180, 'precipitation': 0}, {'dt': 1717911240, 'precipitation': 0}, {'dt': 1717911300, 'precipitation': 0}, {'dt': 1717911360, 'precipitation': 0}, {'dt': 1717911420, 'precipitation': 0}, {'dt': 1717911480, 'precipitation': 0}, {'dt': 1717911540, 'precipitation': 0}, {'dt': 1717911600, 'precipitation': 0}, {'dt': 1717911660, 'precipitation': 0}, {'dt': 1717911720, 'precipitation': 0}], 'hourly': [{'dt': 1717905600, 'temp': 282.56, 'feels_like': 280.11, 'pressure': 1014, 'humidity': 80, 'dew_point': 279.29, 'uvi': 0, 'clouds': 47, 'visibility': 10000, 'wind_speed': 4.72, 'wind_deg': 273, 'wind_gust': 11.14, 'weather': [{'id': 802, 'main': 'Clouds', 'description': 'scattered clouds', 'icon': '03d'}], 'pop': 0}, {'dt': 1717909200, 'temp': 282.96, 'feels_like': 280.52, 'pressure': 1014, 'humidity': 81, 'dew_point': 279.86, 'uvi': 0.11, 'clouds': 40, 'visibility': 10000, 'wind_speed': 4.94, 'wind_deg': 273, 'wind_gust': 10.91, 'weather': [{'id': 802, 'main': 'Clouds', 'description': 'scattered clouds', 'icon': '03d'}], 'pop': 0}, {'dt': 1717912800, 'temp': 282.91, 'feels_like': 280.54, 'pressure': 1014, 'humidity': 80, 'dew_point': 279.63, 'uvi': 0.29, 'clouds': 48, 'visibility': 10000, 'wind_speed': 4.73, 'wind_deg': 270, 'wind_gust': 11.13, 'weather': [{'id': 802, 'main': 'Clouds', 'description': 'scattered clouds', 'icon': '03d'}], 'pop': 0}, {'dt': 1717916400, 'temp': 283.26, 'feels_like': 282.39, 'pressure': 1014, 'humidity': 79, 'dew_point': 279.79, 'uvi': 0.8, 'clouds': 64, 'visibility': 10000, 'wind_speed': 5.32, 'wind_deg': 274, 'wind_gust': 10.58, 'weather': [{'id': 803, 'main': 'Clouds', 'description': 'broken clouds', 'icon': '04d'}], 'pop': 0}, {'dt': 1717920000, 'temp': 284.04, 'feels_like': 283.22, 'pressure': 1015, 'humidity': 78, 'dew_point': 280.36, 'uvi': 1.39, 'clouds': 75, 'visibility': 10000, 'wind_speed': 6.13, 'wind_deg': 283, 'wind_gust': 9.9, 'weather': [{'id': 803, 'main': 'Clouds', 'description': 'broken clouds', 'icon': '04d'}], 'pop': 0}, {'dt': 1717923600, 'temp': 284.83, 'feels_like': 284.06, 'pressure': 1015, 'humidity': 77, 'dew_point': 280.94, 'uvi': 2.11, 'clouds': 87, 'visibility': 10000, 'wind_speed': 6.04, 'wind_deg': 285, 'wind_gust': 9.8, 'weather': [{'id': 804, 'main': 'Clouds', 'description': 'overcast clouds', 'icon': '04d'}], 'pop': 0}, {'dt': 1717927200, 'temp': 285.3, 'feels_like': 284.61, 'pressure': 1015, 'humidity': 78, 'dew_point': 280.97, 'uvi': 1.79, 'clouds': 99, 'visibility': 10000, 'wind_speed': 5.54, 'wind_deg': 284, 'wind_gust': 9.85, 'weather': [{'id': 804, 'main': 'Clouds', 'description': 'overcast clouds', 'icon': '04d'}], 'pop': 0}, {'dt': 1717930800, 'temp': 284.49, 'feels_like': 283.77, 'pressure': 1015, 'humidity': 80, 'dew_point': 280.57, 'uvi': 1.08, 'clouds': 99, 'visibility': 10000, 'wind_speed': 5.33, 'wind_deg': 274, 'wind_gust': 10.16, 'weather': [{'id': 804, 'main': 'Clouds', 'description': 'overcast clouds', 'icon': '04d'}], 'pop': 0}, {'dt': 1717934400, 'temp': 285.77, 'feels_like': 285.05, 'pressure': 1014, 'humidity': 75, 'dew_point': 280.87, 'uvi': 1.81, 'clouds': 99, 'visibility': 10000, 'wind_speed': 5.77, 'wind_deg': 271, 'wind_gust': 10.02, 'weather': [{'id': 804, 'main': 'Clouds', 'description': 'overcast clouds', 'icon': '04d'}], 'pop': 0}, {'dt': 1717938000, 'temp': 285.43, 'feels_like': 284.75, 'pressure': 1013, 'humidity': 78, 'dew_point': 281.32, 'uvi': 1.71, 'clouds': 100, 'visibility': 10000, 'wind_speed': 5.25, 'wind_deg': 256, 'wind_gust': 10.11, 'weather': [{'id': 804, 'main': 'Clouds', 'description': 'overcast clouds', 'icon': '04d'}], 'pop': 0}, {'dt': 1717941600, 'temp': 284.88, 'feels_like': 284.35, 'pressure': 1013, 'humidity': 86, 'dew_point': 281.99, 'uvi': 1.61, 'clouds': 100, 'visibility': 10000, 'wind_speed': 5.74, 'wind_deg': 254, 'wind_gust': 11.56, 'weather': [{'id': 804, 'main': 'Clouds', 'description': 'overcast clouds', 'icon': '04d'}], 'pop': 0.11}, {'dt': 1717945200, 'temp': 286.02, 'feels_like': 285.61, 'pressure': 1012, 'humidity': 86, 'dew_point': 283.09, 'uvi': 0.56, 'clouds': 100, 'visibility': 10000, 'wind_speed': 6.22, 'wind_deg': 264, 'wind_gust': 12.17, 'weather': [{'id': 804, 'main': 'Clouds', 'description': 'overcast clouds', 'icon': '04d'}], 'pop': 0.09}, {'dt': 1717948800, 'temp': 285.79, 'feels_like': 285.43, 'pressure': 1011, 'humidity': 89, 'dew_point': 283.48, 'uvi': 0.27, 'clouds': 100, 'visibility': 10000, 'wind_speed': 6.24, 'wind_deg': 272, 'wind_gust': 11.66, 'weather': [{'id': 500, 'main': 'Rain', 'description': 'light rain', 'icon': '10d'}], 'pop': 0.31, 'rain': {'1h': 0.13}}, {'dt': 1717952400, 'temp': 285.47, 'feels_like': 285.13, 'pressure': 1011, 'humidity': 91, 'dew_point': 283.51, 'uvi': 0.19, 'clouds': 100, 'visibility': 10000, 'wind_speed': 6.19, 'wind_deg': 276, 'wind_gust': 12.09, 'weather': [{'id': 500, 'main': 'Rain', 'description': 'light rain', 'icon': '10d'}], 'pop': 0.3, 'rain': {'1h': 0.1}}, {'dt': 1717956000, 'temp': 285.08, 'feels_like': 284.78, 'pressure': 1011, 'humidity': 94, 'dew_point': 283.59, 'uvi': 0.08, 'clouds': 100, 'visibility': 7125, 'wind_speed': 6.32, 'wind_deg': 275, 'wind_gust': 12.66, 'weather': [{'id': 500, 'main': 'Rain', 'description': 'light rain', 'icon': '10d'}], 'pop': 0.75, 'rain': {'1h': 0.29}}, {'dt': 1717959600, 'temp': 284.61, 'feels_like': 284.32, 'pressure': 1011, 'humidity': 96, 'dew_point': 283.51, 'uvi': 0.04, 'clouds': 100, 'visibility': 5661, 'wind_speed': 6.81, 'wind_deg': 283, 'wind_gust': 12.55, 'weather': [{'id': 500, 'main': 'Rain', 'description': 'light rain', 'icon': '10d'}], 'pop': 1, 'rain': {'1h': 0.83}}, {'dt': 1717963200, 'temp': 284.04, 'feels_like': 283.69, 'pressure': 1011, 'humidity': 96, 'dew_point': 282.99, 'uvi': 0.01, 'clouds': 100, 'visibility': 7453, 'wind_speed': 4.95, 'wind_deg': 307, 'wind_gust': 10.06, 'weather': [{'id': 500, 'main': 'Rain', 'description': 'light rain', 'icon': '10d'}], 'pop': 1, 'rain': {'1h': 0.74}}, {'dt': 1717966800, 'temp': 282.97, 'feels_like': 281.08, 'pressure': 1012, 'humidity': 98, 'dew_point': 282.01, 'uvi': 0, 'clouds': 100, 'visibility': 8219, 'wind_speed': 3.69, 'wind_deg': 359, 'wind_gust': 6.38, 'weather': [{'id': 500, 'main': 'Rain', 'description': 'light rain', 'icon': '10n'}], 'pop': 1, 'rain': {'1h': 0.74}}, {'dt': 1717970400, 'temp': 281.85, 'feels_like': 280.56, 'pressure': 1013, 'humidity': 97, 'dew_point': 280.83, 'uvi': 0, 'clouds': 100, 'visibility': 10000, 'wind_speed': 2.33, 'wind_deg': 325, 'wind_gust': 5.85, 'weather': [{'id': 500, 'main': 'Rain', 'description': 'light rain', 'icon': '10n'}], 'pop': 1, 'rain': {'1h': 0.48}}, {'dt': 1717974000, 'temp': 281.69, 'feels_like': 280.19, 'pressure': 1013, 'humidity': 96, 'dew_point': 280.5, 'uvi': 0, 'clouds': 100, 'visibility': 10000, 'wind_speed': 2.57, 'wind_deg': 302, 'wind_gust': 7.08, 'weather': [{'id': 804, 'main': 'Clouds', 'description': 'overcast clouds', 'icon': '04n'}], 'pop': 0.8}, {'dt': 1717977600, 'temp': 281.28, 'feels_like': 279.59, 'pressure': 1013, 'humidity': 96, 'dew_point': 280.2, 'uvi': 0, 'clouds': 100, 'visibility': 10000, 'wind_speed': 2.74, 'wind_deg': 305, 'wind_gust': 8.08, 'weather': [{'id': 804, 'main': 'Clouds', 'description': 'overcast clouds', 'icon': '04n'}], 'pop': 0.8}, {'dt': 1717981200, 'temp': 280.13, 'feels_like': 278.12, 'pressure': 1014, 'humidity': 97, 'dew_point': 279.2, 'uvi': 0, 'clouds': 100, 'visibility': 10000, 'wind_speed': 2.88, 'wind_deg': 307, 'wind_gust': 7.22, 'weather': [{'id': 804, 'main': 'Clouds', 'description': 'overcast clouds', 'icon': '04n'}], 'pop': 0}, {'dt': 1717984800, 'temp': 278.78, 'feels_like': 276.96, 'pressure': 1014, 'humidity': 98, 'dew_point': 277.87, 'uvi': 0, 'clouds': 74, 'visibility': 6275, 'wind_speed': 2.31, 'wind_deg': 288, 'wind_gust': 5.53, 'weather': [{'id': 803, 'main': 'Clouds', 'description': 'broken clouds', 'icon': '04n'}], 'pop': 0}, {'dt': 1717988400, 'temp': 277.98, 'feels_like': 275.76, 'pressure': 1014, 'humidity': 98, 'dew_point': 277.06, 'uvi': 0, 'clouds': 68, 'visibility': 5505, 'wind_speed': 2.61, 'wind_deg': 271, 'wind_gust': 5.84, 'weather': [{'id': 803, 'main': 'Clouds', 'description': 'broken clouds', 'icon': '04n'}], 'pop': 0}, {'dt': 1717992000, 'temp': 277.47, 'feels_like': 274.83, 'pressure': 1014, 'humidity': 97, 'dew_point': 276.46, 'uvi': 0, 'clouds': 72, 'visibility': 10000, 'wind_speed': 3.01, 'wind_deg': 274, 'wind_gust': 6.28, 'weather': [{'id': 803, 'main': 'Clouds', 'description': 'broken clouds', 'icon': '04d'}], 'pop': 0}, {'dt': 1717995600, 'temp': 277.76, 'feels_like': 275.04, 'pressure': 1015, 'humidity': 98, 'dew_point': 276.92, 'uvi': 0.12, 'clouds': 71, 'visibility': 10000, 'wind_speed': 3.21, 'wind_deg': 274, 'wind_gust': 6.64, 'weather': [{'id': 803, 'main': 'Clouds', 'description': 'broken clouds', 'icon': '04d'}], 'pop': 0}, {'dt': 1717999200, 'temp': 279.41, 'feels_like': 276.94, 'pressure': 1015, 'humidity': 96, 'dew_point': 278.3, 'uvi': 0.37, 'clouds': 67, 'visibility': 10000, 'wind_speed': 3.34, 'wind_deg': 288, 'wind_gust': 7.64, 'weather': [{'id': 803, 'main': 'Clouds', 'description': 'broken clouds', 'icon': '04d'}], 'pop': 0}, {'dt': 1718002800, 'temp': 281.47, 'feels_like': 279.15, 'pressure': 1016, 'humidity': 92, 'dew_point': 279.66, 'uvi': 0.88, 'clouds': 55, 'visibility': 10000, 'wind_speed': 3.87, 'wind_deg': 311, 'wind_gust': 9.34, 'weather': [{'id': 803, 'main': 'Clouds', 'description': 'broken clouds', 'icon': '04d'}], 'pop': 0}, {'dt': 1718006400, 'temp': 283.32, 'feels_like': 282.56, 'pressure': 1016, 'humidity': 83, 'dew_point': 279.98, 'uvi': 1.67, 'clouds': 41, 'visibility': 10000, 'wind_speed': 4.72, 'wind_deg': 328, 'wind_gust': 8.09, 'weather': [{'id': 802, 'main': 'Clouds', 'description': 'scattered clouds', 'icon': '03d'}], 'pop': 0}, {'dt': 1718010000, 'temp': 285.15, 'feels_like': 284.18, 'pressure': 1016, 'humidity': 68, 'dew_point': 278.86, 'uvi': 2.69, 'clouds': 29, 'visibility': 10000, 'wind_speed': 5.4, 'wind_deg': 343, 'wind_gust': 7.24, 'weather': [{'id': 802, 'main': 'Clouds', 'description': 'scattered clouds', 'icon': '03d'}], 'pop': 0}, {'dt': 1718013600, 'temp': 286.33, 'feels_like': 285.3, 'pressure': 1017, 'humidity': 61, 'dew_point': 278.62, 'uvi': 3.54, 'clouds': 24, 'visibility': 10000, 'wind_speed': 5.72, 'wind_deg': 353, 'wind_gust': 7.15, 'weather': [{'id': 801, 'main': 'Clouds', 'description': 'few clouds', 'icon': '02d'}], 'pop': 0}, {'dt': 1718017200, 'temp': 287.23, 'feels_like': 286.18, 'pressure': 1017, 'humidity': 57, 'dew_point': 278.25, 'uvi': 3.8, 'clouds': 30, 'visibility': 10000, 'wind_speed': 5.81, 'wind_deg': 1, 'wind_gust': 7.31, 'weather': [{'id': 802, 'main': 'Clouds', 'description': 'scattered clouds', 'icon': '03d'}], 'pop': 0}, {'dt': 1718020800, 'temp': 287.82, 'feels_like': 286.7, 'pressure': 1017, 'humidity': 52, 'dew_point': 277.63, 'uvi': 5.08, 'clouds': 36, 'visibility': 10000, 'wind_speed': 5.52, 'wind_deg': 6, 'wind_gust': 7.32, 'weather': [{'id': 802, 'main': 'Clouds', 'description': 'scattered clouds', 'icon': '03d'}], 'pop': 0}, {'dt': 1718024400, 'temp': 288.4, 'feels_like': 287.31, 'pressure': 1017, 'humidity': 51, 'dew_point': 277.89, 'uvi': 4.24, 'clouds': 47, 'visibility': 10000, 'wind_speed': 5.64, 'wind_deg': 4, 'wind_gust': 7.47, 'weather': [{'id': 802, 'main': 'Clouds', 'description': 'scattered clouds', 'icon': '03d'}], 'pop': 0.01}, {'dt': 1718028000, 'temp': 287.36, 'feels_like': 286.32, 'pressure': 1017, 'humidity': 57, 'dew_point': 278.42, 'uvi': 3.18, 'clouds': 77, 'visibility': 10000, 'wind_speed': 5.35, 'wind_deg': 348, 'wind_gust': 7.23, 'weather': [{'id': 803, 'main': 'Clouds', 'description': 'broken clouds', 'icon': '04d'}], 'pop': 0.23}, {'dt': 1718031600, 'temp': 287.81, 'feels_like': 286.72, 'pressure': 1017, 'humidity': 53, 'dew_point': 277.88, 'uvi': 2.6, 'clouds': 84, 'visibility': 10000, 'wind_speed': 4.35, 'wind_deg': 345, 'wind_gust': 7.01, 'weather': [{'id': 803, 'main': 'Clouds', 'description': 'broken clouds', 'icon': '04d'}], 'pop': 0.14}, {'dt': 1718035200, 'temp': 286.15, 'feels_like': 285.26, 'pressure': 1018, 'humidity': 67, 'dew_point': 279.72, 'uvi': 2.36, 'clouds': 92, 'visibility': 10000, 'wind_speed': 4.46, 'wind_deg': 356, 'wind_gust': 7.53, 'weather': [{'id': 500, 'main': 'Rain', 'description': 'light rain', 'icon': '10d'}], 'pop': 0.39, 'rain': {'1h': 0.16}}, {'dt': 1718038800, 'temp': 287.18, 'feels_like': 286.13, 'pressure': 1018, 'humidity': 57, 'dew_point': 278.31, 'uvi': 1.38, 'clouds': 92, 'visibility': 10000, 'wind_speed': 4.94, 'wind_deg': 360, 'wind_gust': 7.16, 'weather': [{'id': 804, 'main': 'Clouds', 'description': 'overcast clouds', 'icon': '04d'}], 'pop': 0.05}, {'dt': 1718042400, 'temp': 286.51, 'feels_like': 285.52, 'pressure': 1019, 'humidity': 62, 'dew_point': 278.81, 'uvi': 0.61, 'clouds': 83, 'visibility': 10000, 'wind_speed': 5.22, 'wind_deg': 356, 'wind_gust': 7.54, 'weather': [{'id': 803, 'main': 'Clouds', 'description': 'broken clouds', 'icon': '04d'}], 'pop': 0}, {'dt': 1718046000, 'temp': 284.61, 'feels_like': 283.8, 'pressure': 1019, 'humidity': 76, 'dew_point': 279.92, 'uvi': 0.22, 'clouds': 89, 'visibility': 10000, 'wind_speed': 4.83, 'wind_deg': 358, 'wind_gust': 8.57, 'weather': [{'id': 500, 'main': 'Rain', 'description': 'light rain', 'icon': '10d'}], 'pop': 0.83, 'rain': {'1h': 0.13}}, {'dt': 1718049600, 'temp': 283.25, 'feels_like': 282.43, 'pressure': 1020, 'humidity': 81, 'dew_point': 279.68, 'uvi': 0.07, 'clouds': 97, 'visibility': 10000, 'wind_speed': 3.85, 'wind_deg': 337, 'wind_gust': 9.48, 'weather': [{'id': 804, 'main': 'Clouds', 'description': 'overcast clouds', 'icon': '04d'}], 'pop': 0.5}, {'dt': 1718053200, 'temp': 281.86, 'feels_like': 279.93, 'pressure': 1020, 'humidity': 85, 'dew_point': 278.77, 'uvi': 0, 'clouds': 100, 'visibility': 10000, 'wind_speed': 3.3, 'wind_deg': 317, 'wind_gust': 8.85, 'weather': [{'id': 804, 'main': 'Clouds', 'description': 'overcast clouds', 'icon': '04n'}], 'pop': 0}, {'dt': 1718056800, 'temp': 280.28, 'feels_like': 278.07, 'pressure': 1021, 'humidity': 90, 'dew_point': 278.17, 'uvi': 0, 'clouds': 87, 'visibility': 10000, 'wind_speed': 3.22, 'wind_deg': 301, 'wind_gust': 8.37, 'weather': [{'id': 804, 'main': 'Clouds', 'description': 'overcast clouds', 'icon': '04n'}], 'pop': 0}, {'dt': 1718060400, 'temp': 279.64, 'feels_like': 277.19, 'pressure': 1021, 'humidity': 93, 'dew_point': 278.09, 'uvi': 0, 'clouds': 87, 'visibility': 10000, 'wind_speed': 3.4, 'wind_deg': 287, 'wind_gust': 8.51, 'weather': [{'id': 804, 'main': 'Clouds', 'description': 'overcast clouds', 'icon': '04n'}], 'pop': 0}, {'dt': 1718064000, 'temp': 279.4, 'feels_like': 276.89, 'pressure': 1021, 'humidity': 95, 'dew_point': 278.09, 'uvi': 0, 'clouds': 91, 'visibility': 10000, 'wind_speed': 3.41, 'wind_deg': 280, 'wind_gust': 7.96, 'weather': [{'id': 804, 'main': 'Clouds', 'description': 'overcast clouds', 'icon': '04n'}], 'pop': 0}, {'dt': 1718067600, 'temp': 279.3, 'feels_like': 276.77, 'pressure': 1021, 'humidity': 96, 'dew_point': 278.12, 'uvi': 0, 'clouds': 69, 'visibility': 10000, 'wind_speed': 3.41, 'wind_deg': 277, 'wind_gust': 8.07, 'weather': [{'id': 803, 'main': 'Clouds', 'description': 'broken clouds', 'icon': '04n'}], 'pop': 0}, {'dt': 1718071200, 'temp': 279.19, 'feels_like': 276.6, 'pressure': 1021, 'humidity': 96, 'dew_point': 278.1, 'uvi': 0, 'clouds': 72, 'visibility': 10000, 'wind_speed': 3.46, 'wind_deg': 276, 'wind_gust': 7.84, 'weather': [{'id': 803, 'main': 'Clouds', 'description': 'broken clouds', 'icon': '04n'}], 'pop': 0}, {'dt': 1718074800, 'temp': 279.15, 'feels_like': 276.52, 'pressure': 1021, 'humidity': 97, 'dew_point': 277.97, 'uvi': 0, 'clouds': 69, 'visibility': 10000, 'wind_speed': 3.51, 'wind_deg': 279, 'wind_gust': 7.95, 'weather': [{'id': 803, 'main': 'Clouds', 'description': 'broken clouds', 'icon': '04n'}], 'pop': 0}], 'daily': [{'dt': 1717934400, 'sunrise': 1717905491, 'sunset': 1717966240, 'moonrise': 1717913340, 'moonset': 1717889520, 'moon_phase': 0.1, 'summary': 'You can expect partly cloudy in the morning, with rain in the afternoon', 'temp': {'day': 285.77, 'min': 279.34, 'max': 286.02, 'night': 281.85, 'eve': 285.08, 'morn': 282.91}, 'feels_like': {'day': 285.05, 'night': 280.56, 'eve': 284.78, 'morn': 280.54}, 'pressure': 1014, 'humidity': 75, 'dew_point': 280.87, 'wind_speed': 6.81, 'wind_deg': 283, 'wind_gust': 12.66, 'weather': [{'id': 500, 'main': 'Rain', 'description': 'light rain', 'icon': '10d'}], 'clouds': 99, 'pop': 1, 'rain': 3.31, 'uvi': 2.11}, {'dt': 1718020800, 'sunrise': 1717991866, 'sunset': 1718052688, 'moonrise': 1718004540, 'moonset': 1717977660, 'moon_phase': 0.13, 'summary': 'Expect a day of partly cloudy with rain', 'temp': {'day': 287.82, 'min': 277.47, 'max': 288.4, 'night': 280.28, 'eve': 286.51, 'morn': 279.41}, 'feels_like': {'day': 286.7, 'night': 278.07, 'eve': 285.52, 'morn': 276.94}, 'pressure': 1017, 'humidity': 52, 'dew_point': 277.63, 'wind_speed': 5.81, 'wind_deg': 1, 'wind_gust': 9.48, 'weather': [{'id': 500, 'main': 'Rain', 'description': 'light rain', 'icon': '10d'}], 'clouds': 36, 'pop': 0.83, 'rain': 0.29, 'uvi': 5.08}, {'dt': 1718107200, 'sunrise': 1718078244, 'sunset': 1718139133, 'moonrise': 1718095740, 'moonset': 1718065200, 'moon_phase': 0.17, 'summary': 'There will be partly cloudy today', 'temp': {'day': 284.59, 'min': 278.59, 'max': 286.09, 'night': 281.93, 'eve': 285.66, 'morn': 280.73}, 'feels_like': {'day': 283.46, 'night': 281.52, 'eve': 284.79, 'morn': 278.57}, 'pressure': 1022, 'humidity': 64, 'dew_point': 277.54, 'wind_speed': 4.49, 'wind_deg': 330, 'wind_gust': 8.51, 'weather': [{'id': 804, 'main': 'Clouds', 'description': 'overcast clouds', 'icon': '04d'}], 'clouds': 87, 'pop': 0.06, 'uvi': 2.14}, {'dt': 1718193600, 'sunrise': 1718164625, 'sunset': 1718225575, 'moonrise': 1718186760, 'moonset': 1718152440, 'moon_phase': 0.2, 'summary': 'Expect a day of partly cloudy with clear spells', 'temp': {'day': 287.97, 'min': 277.29, 'max': 288.72, 'night': 283.22, 'eve': 287.51, 'morn': 280.08}, 'feels_like': {'day': 286.92, 'night': 282.45, 'eve': 286.86, 'morn': 278.87}, 'pressure': 1020, 'humidity': 54, 'dew_point': 278.36, 'wind_speed': 3.1, 'wind_deg': 208, 'wind_gust': 5.62, 'weather': [{'id': 801, 'main': 'Clouds', 'description': 'few clouds', 'icon': '02d'}], 'clouds': 20, 'pop': 0, 'uvi': 5.29}, {'dt': 1718280000, 'sunrise': 1718251010, 'sunset': 1718312014, 'moonrise': 1718277600, 'moonset': 1718239440, 'moon_phase': 0.23, 'summary': 'There will be partly cloudy until morning, then rain', 'temp': {'day': 284.56, 'min': 282.67, 'max': 284.56, 'night': 283.56, 'eve': 283.53, 'morn': 283.47}, 'feels_like': {'day': 284.21, 'night': 283.22, 'eve': 283.16, 'morn': 283.01}, 'pressure': 1004, 'humidity': 94, 'dew_point': 283.05, 'wind_speed': 7.48, 'wind_deg': 92, 'wind_gust': 13.03, 'weather': [{'id': 501, 'main': 'Rain', 'description': 'moderate rain', 'icon': '10d'}], 'clouds': 100, 'pop': 1, 'rain': 10.66, 'uvi': 0.83}, {'dt': 1718366400, 'sunrise': 1718337398, 'sunset': 1718398450, 'moonrise': 1718368320, 'moonset': 1718326320, 'moon_phase': 0.25, 'summary': 'You can expect rain in the morning, with partly cloudy in the afternoon', 'temp': {'day': 284.28, 'min': 283.58, 'max': 284.83, 'night': 283.93, 'eve': 284.83, 'morn': 284.15}, 'feels_like': {'day': 283.96, 'night': 283.62, 'eve': 284.51, 'morn': 283.89}, 'pressure': 997, 'humidity': 96, 'dew_point': 283.14, 'wind_speed': 6.38, 'wind_deg': 63, 'wind_gust': 10.91, 'weather': [{'id': 501, 'main': 'Rain', 'description': 'moderate rain', 'icon': '10d'}], 'clouds': 100, 'pop': 1, 'rain': 8.67, 'uvi': 1}, {'dt': 1718452800, 'sunrise': 1718423789, 'sunset': 1718484883, 'moonrise': 1718458980, 'moonset': 1718413140, 'moon_phase': 0.29, 'summary': 'Expect a day of partly cloudy with rain', 'temp': {'day': 287.25, 'min': 283.28, 'max': 289.61, 'night': 285.34, 'eve': 289.61, 'morn': 283.28}, 'feels_like': {'day': 286.75, 'night': 284.83, 'eve': 288.83, 'morn': 282.91}, 'pressure': 1006, 'humidity': 78, 'dew_point': 283.05, 'wind_speed': 3.96, 'wind_deg': 319, 'wind_gust': 6.36, 'weather': [{'id': 500, 'main': 'Rain', 'description': 'light rain', 'icon': '10d'}], 'clouds': 98, 'pop': 0.83, 'rain': 1.74, 'uvi': 1}, {'dt': 1718539200, 'sunrise': 1718510184, 'sunset': 1718571312, 'moonrise': 1718549760, 'moonset': 1718500020, 'moon_phase': 0.32, 'summary': 'There will be rain until morning, then partly cloudy', 'temp': {'day': 290.63, 'min': 281.83, 'max': 290.8, 'night': 286.23, 'eve': 288.54, 'morn': 284.47}, 'feels_like': {'day': 289.92, 'night': 285.76, 'eve': 287.94, 'morn': 283.96}, 'pressure': 1009, 'humidity': 57, 'dew_point': 281.56, 'wind_speed': 6.55, 'wind_deg': 147, 'wind_gust': 10.87, 'weather': [{'id': 804, 'main': 'Clouds', 'description': 'overcast clouds', 'icon': '04d'}], 'clouds': 99, 'pop': 0, 'uvi': 1}]}\n"
     ]
    }
   ],
   "source": [
    "import requests\n",
    "import datetime\n",
    "\n",
    "def get_historical_weather(lat, lon, past_time, api_key):\n",
    "    # Convert past_time to UNIX timestamp\n",
    "    unix_time = int(datetime.datetime.strptime(past_time, '%Y-%m-%d %H:%M:%S').timestamp())\n",
    "    \n",
    "    # OpenWeatherMap One Call Historical Weather data endpoint\n",
    "    lat = '53.3331'\n",
    "    long = '-6.2489'\n",
    "    API = 'a37a07cbf2bc3b515c70896114b16f87'\n",
    "    url = \"https://api.openweathermap.org/data/3.0/onecall?lat=53.3331&lon=-6.2489&exclude=current&appid=3bb980e89cfe2a2a202773ebe12144e7\"\n",
    "    \n",
    "    # Parameters for the API request\n",
    "    params = {\n",
    "        'lat': lat,\n",
    "        'lon': lon,\n",
    "        'dt': unix_time,\n",
    "        'appid': api_key,\n",
    "        'units': 'metric'  # Change to 'imperial' if you prefer\n",
    "    }\n",
    "    \n",
    "    # Make the API request\n",
    "    response = requests.get(url)\n",
    "    data = response.json()\n",
    "    \n",
    "    # Extract the required data\n",
    "    # result = {\n",
    "    #     'feels_like': data['current']['feels_like'],\n",
    "    #     'temp_min': min([hourly['temp'] for hourly in data['hourly']]),\n",
    "    #     'temp_max': max([hourly['temp'] for hourly in data['hourly']]),\n",
    "    #     'pressure': data['current']['pressure'],\n",
    "    #     'humidity': data['current']['humidity'],\n",
    "    #     'visibility': data['current'].get('visibility', 'N/A'),\n",
    "    #     'wind_speed': data['current']['wind_speed'],\n",
    "    #     'wind_deg': data['current']['wind_deg'],\n",
    "    #     'clouds_all': data['current']['clouds'],\n",
    "    #     'sunrise': datetime.datetime.fromtimestamp(data['current']['sunrise']).strftime('%Y-%m-%d %H:%M:%S'),\n",
    "    #     'sunset': datetime.datetime.fromtimestamp(data['current']['sunset']).strftime('%Y-%m-%d %H:%M:%S')\n",
    "    # }\n",
    "    \n",
    "    return data\n",
    "\n",
    "# Example usage\n",
    "lat = 37.7749  # Latitude for San Francisco\n",
    "lon = -122.4194  # Longitude for San Francisco\n",
    "past_time = '2023-06-01 12:00:00'  # Example past date and time\n",
    "api_key = '3bb980e89cfe2a2a202773ebe12144e7'  # Replace with your OpenWeatherMap API key\n",
    "\n",
    "historical_weather = get_historical_weather(lat, lon, past_time, api_key)\n",
    "print(historical_weather)\n"
   ]
  },
  {
   "cell_type": "markdown",
   "metadata": {},
   "source": [
    "https://api.openweathermap.org/data/3.0/onecall/timemachine?lat=53.3331&lon=-6.2489&dt=1586468027&appid=3bb980e89cfe2a2a202773ebe12144e7"
   ]
  },
  {
   "cell_type": "code",
   "execution_count": null,
   "metadata": {},
   "outputs": [],
   "source": [
    "https://api.openweathermap.org/data/3.0/onecall/day_summary?lat=53.3331&lon=-6.2489&date=2020-03-04&appid=3bb980e89cfe2a2a202773ebe12144e7"
   ]
  },
  {
   "cell_type": "code",
   "execution_count": null,
   "metadata": {},
   "outputs": [],
   "source": [
    "from datetime import date, timedelta\n",
    "\n",
    "def list_all_dates(year):\n",
    "    # Create a date object for the first day of the year\n",
    "    start_date = date(year, 1, 1)\n",
    "    # Create a date object for the first day of the next year\n",
    "    end_date = date(year + 1, 1, 1)\n",
    "    # Initialize an empty list to store the dates\n",
    "    all_dates = []\n",
    "    # Use a while loop to iterate from start_date to end_date\n",
    "    current_date = start_date\n",
    "    while current_date < end_date:\n",
    "        # Append the current date to the list in yyyy-mm-dd format\n",
    "        all_dates.append(current_date.strftime('%Y-%m-%d'))\n",
    "        # Move to the next day\n",
    "        current_date += timedelta(days=1)\n",
    "    return all_dates\n",
    "\n",
    "# Example usage:\n",
    "year = 2024\n",
    "dates = list_all_dates(year)\n",
    "for d in dates:\n",
    "    print(d)\n"
   ]
  },
  {
   "cell_type": "code",
   "execution_count": 1,
   "metadata": {},
   "outputs": [
    {
     "name": "stdout",
     "output_type": "stream",
     "text": [
      "1669238427\n"
     ]
    }
   ],
   "source": [
    "from datetime import datetime\n",
    "\n",
    "def datetime_to_timestamp(date_time_str):\n",
    "    date_time_format = \"%Y-%m-%d %H:%M:%S\"\n",
    "    dt_obj = datetime.strptime(date_time_str, date_time_format)\n",
    "    timestamp = dt_obj.timestamp()\n",
    "    return int(timestamp)\n",
    "\n",
    "date_time_str = \"2022-11-23 21:20:27\"\n",
    "timestamp = datetime_to_timestamp(date_time_str)\n",
    "print(timestamp)\n"
   ]
  },
  {
   "cell_type": "code",
   "execution_count": null,
   "metadata": {},
   "outputs": [],
   "source": [
    "from datetime import datetime, timedelta\n",
    "\n",
    "def generate_hourly_datetimes(from_date: str, to_date: str) -> list:\n",
    "\n",
    "    start_datetime = datetime.strptime(from_date, '%Y-%m-%d %H:%M:%S')\n",
    "    end_datetime = datetime.strptime(to_date, '%Y-%m-%d %H:%M:%S')\n",
    "    datetime_list = []\n",
    "    current_datetime = start_datetime\n",
    "    while current_datetime <= end_datetime:\n",
    "        datetime_list.append(current_datetime.strftime('%Y-%m-%d %H:%M:%S'))\n",
    "        current_datetime += timedelta(hours=1)\n",
    "    return datetime_list\n",
    "\n",
    "from_date = '2023-06-08 00:00:00'\n",
    "to_date = '2024-06-07 23:00:00'\n",
    "data = generate_hourly_datetimes(from_date, to_date)\n",
    "data"
   ]
  },
  {
   "cell_type": "code",
   "execution_count": 1,
   "metadata": {},
   "outputs": [],
   "source": [
    "from flask import Flask, render_template, request, redirect, url_for, flash, session, jsonify\n",
    "from flask_sqlalchemy import SQLAlchemy\n",
    "from flask_bcrypt import Bcrypt\n",
    "import hashlib\n",
    "import hmac\n",
    "import json\n",
    "import urllib\n",
    "import urllib.parse\n",
    "from urllib.request import urlopen, Request\n",
    "import requests\n",
    "from apscheduler.schedulers.background import BackgroundScheduler\n",
    "import csv\n",
    "from sqlalchemy import text\n",
    "import time\n",
    "from datetime import date, timedelta, datetime"
   ]
  },
  {
   "cell_type": "code",
   "execution_count": 2,
   "metadata": {},
   "outputs": [],
   "source": [
    "def get_open_weather_historical_info(lat, long, timestamp):\n",
    "    API = '3bb980e89cfe2a2a202773ebe12144e7'\n",
    "    url = f\"https://api.openweathermap.org/data/3.0/onecall/timemachine?lat={lat}&lon={long}&dt={timestamp}&appid={API}\"\n",
    "    response = requests.get(url)\n",
    "\n",
    "    if response.status_code == 200:\n",
    "        data = json.loads(response.text)\n",
    "        data = {\n",
    "        'user': 'fstatazizi@gmail.com',\n",
    "        'lat': data['lat'],\n",
    "        'long': data['lon'],\n",
    "        'timestamp': timestamp,\n",
    "        'sunrise': data['data'][0]['sunrise'],\n",
    "        'sunset': data['data'][0]['sunset'],\n",
    "        'temp': data['data'][0]['temp'],\n",
    "        'feels_like': data['data'][0]['feels_like'],\n",
    "        'pressure': data['data'][0]['pressure'],\n",
    "        'humidity': data['data'][0]['humidity'],\n",
    "        'dew_point': data['data'][0]['dew_point'],\n",
    "        'clouds': data['data'][0]['clouds'],\n",
    "        'visibility': data['data'][0]['visibility'],\n",
    "        'wind_speed': data['data'][0]['wind_speed'],\n",
    "        'wind_deg': data['data'][0]['wind_deg'],\n",
    "        'wind_gust': data['data'][0]['wind_gust'],\n",
    "        'weather_main': data['data'][0]['weather'][0]['main'],\n",
    "        'weather_description': data['data'][0]['weather'][0]['description']\n",
    "    }\n",
    "    return data"
   ]
  },
  {
   "cell_type": "code",
   "execution_count": 3,
   "metadata": {},
   "outputs": [
    {
     "data": {
      "text/plain": [
       "{'user': 'fstatazizi@gmail.com',\n",
       " 'lat': 53.2762,\n",
       " 'long': -6.2279,\n",
       " 'timestamp': '1586468027',\n",
       " 'sunrise': 1586410703,\n",
       " 'sunset': 1586459637,\n",
       " 'temp': 281.76,\n",
       " 'feels_like': 279.99,\n",
       " 'pressure': 1024,\n",
       " 'humidity': 88,\n",
       " 'dew_point': 279.89,\n",
       " 'clouds': 20,\n",
       " 'visibility': 10000,\n",
       " 'wind_speed': 3,\n",
       " 'wind_deg': 110,\n",
       " 'wind_gust': 0,\n",
       " 'weather_main': 'Clouds',\n",
       " 'weather_description': 'few clouds'}"
      ]
     },
     "execution_count": 3,
     "metadata": {},
     "output_type": "execute_result"
    }
   ],
   "source": [
    "timestamp = '1586468027'\n",
    "\n",
    "info = get_open_weather_historical_info('53.276220', '-6.227920', timestamp)\n",
    "info"
   ]
  }
 ],
 "metadata": {
  "kernelspec": {
   "display_name": "Python 3",
   "language": "python",
   "name": "python3"
  },
  "language_info": {
   "codemirror_mode": {
    "name": "ipython",
    "version": 3
   },
   "file_extension": ".py",
   "mimetype": "text/x-python",
   "name": "python",
   "nbconvert_exporter": "python",
   "pygments_lexer": "ipython3",
   "version": "3.12.2"
  }
 },
 "nbformat": 4,
 "nbformat_minor": 2
}
