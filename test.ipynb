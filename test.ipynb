{
 "cells": [
  {
   "cell_type": "code",
   "execution_count": 1,
   "metadata": {},
   "outputs": [
    {
     "name": "stdout",
     "output_type": "stream",
     "text": [
      "result\n",
      " * Serving Flask app '__main__'\n",
      " * Debug mode: on\n"
     ]
    },
    {
     "name": "stderr",
     "output_type": "stream",
     "text": [
      "WARNING: This is a development server. Do not use it in a production deployment. Use a production WSGI server instead.\n",
      " * Running on http://127.0.0.1:5000\n",
      "Press CTRL+C to quit\n",
      " * Restarting with watchdog (windowsapi)\n"
     ]
    },
    {
     "ename": "SystemExit",
     "evalue": "1",
     "output_type": "error",
     "traceback": [
      "An exception has occurred, use %tb to see the full traceback.\n",
      "\u001b[1;31mSystemExit\u001b[0m\u001b[1;31m:\u001b[0m 1\n"
     ]
    },
    {
     "name": "stderr",
     "output_type": "stream",
     "text": [
      "c:\\python\\Lib\\site-packages\\IPython\\core\\interactiveshell.py:3534: UserWarning: To exit: use 'exit', 'quit', or Ctrl-D.\n",
      "  warn(\"To exit: use 'exit', 'quit', or Ctrl-D.\", stacklevel=1)\n"
     ]
    }
   ],
   "source": [
    "from flask import Flask, render_template, request, redirect, url_for, flash, session, jsonify\n",
    "from flask_sqlalchemy import SQLAlchemy\n",
    "from flask_bcrypt import Bcrypt\n",
    "import hashlib\n",
    "import hmac\n",
    "import json\n",
    "import urllib\n",
    "import urllib.parse\n",
    "from urllib.request import urlopen, Request\n",
    "from datetime import datetime\n",
    "import requests\n",
    "from threading import Lock\n",
    "from apscheduler.schedulers.background import BackgroundScheduler\n",
    "import csv\n",
    "from sqlalchemy import text\n",
    "\n",
    "\n",
    "app = Flask(__name__, static_folder=\"C:/Users/aromax/Documents/AroProjects/SmartEMS/SmartEMS/static/\")\n",
    "app.secret_key = \"your_very_secret_key_here\"\n",
    "app.config['SQLALCHEMY_DATABASE_URI'] = 'sqlite:///C:/Users/aromax/Documents/AroProjects/SmartEMS/smart_ems.db'\n",
    "\n",
    "app.config[\"SQLALCHEMY_TRACK_MODIFICATIONS\"] = False\n",
    "db = SQLAlchemy(app)\n",
    "bcrypt = Bcrypt(app)\n",
    "\n",
    "lock = Lock()\n",
    "    \n",
    "def log_data():\n",
    "    with lock:\n",
    "        with open('data1.csv', mode='a', newline='') as file:\n",
    "            writer = csv.writer(file)\n",
    "            writer.writerow([datetime.now().strftime(\"%Y-%m-%d %H:%M:%S\")])\n",
    "            \n",
    "def get_device_list(email='all'):\n",
    "\n",
    "    # query = text(\"SELECT * FROM devices WHERE email = 'saiful.aromax@gmail.com' AND type IN ('thermostat', 'TRV') ORDER BY type;\")\n",
    "    # result = db.engine.execute(query, username=\"admin\")\n",
    "    print('result')\n",
    "\n",
    "# scheduler = BackgroundScheduler()\n",
    "# scheduler.add_job(aromax, 'interval', minutes=1,max_instances=1)\n",
    "# scheduler.start()\n",
    "get_device_list()\n",
    "\n",
    "if __name__ == \"__main__\":\n",
    "    # app.run(host=\"0.0.0.0\", debug=True)\n",
    "    app.run(debug=True)\n"
   ]
  }
 ],
 "metadata": {
  "kernelspec": {
   "display_name": "Python 3",
   "language": "python",
   "name": "python3"
  },
  "language_info": {
   "codemirror_mode": {
    "name": "ipython",
    "version": 3
   },
   "file_extension": ".py",
   "mimetype": "text/x-python",
   "name": "python",
   "nbconvert_exporter": "python",
   "pygments_lexer": "ipython3",
   "version": "3.12.2"
  }
 },
 "nbformat": 4,
 "nbformat_minor": 2
}
