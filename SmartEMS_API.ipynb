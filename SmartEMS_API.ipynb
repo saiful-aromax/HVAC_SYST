{
  "cells": [
    {
      "cell_type": "code",
      "execution_count": 1,
      "metadata": {},
      "outputs": [],
      "source": [
        "clients = [\n",
        "    {'account': 'saiful.aromax@gmail.com', 'devices': #Client-1\n",
        "        [\n",
        "            {'device_id': 'bfc6fdb8a9d07ef71cyuud', 'type': 'hub'},\n",
        "            {'device_id': 'bf7adcca218736d1beltu0', 'type': 'TRV'},\n",
        "            {'device_id': 'bfc8da7daa7a40e10dgtgk', 'type': 'socket'}\n",
        "        ]\n",
        "    },\n",
        "    {'account': 'fstatazizi@gmail.com', 'devices': #Client-2\n",
        "        [\n",
        "            {'device_id': 'bf0867de0cbdec04744czw', 'type': 'hub'},\n",
        "            {'device_id': 'bf7356030aa2552ff4akq1', 'type': 'thermostat'},\n",
        "            {'device_id': 'bf247826822493b7052aya', 'type': 'TRV'},\n",
        "            {'device_id': 'bfe22383bb69caf809simm', 'type': 'TRV'}\n",
        "        ]\n",
        "    }\n",
        "]"
      ]
    },
    {
      "cell_type": "code",
      "execution_count": 3,
      "metadata": {},
      "outputs": [
        {
          "name": "stdout",
          "output_type": "stream",
          "text": [
            "saiful.aromax@gmail.com\n",
            "Device ID: bfc6fdb8a9d07ef71cyuud || Devide type: hub\n",
            "Device ID: bf7adcca218736d1beltu0 || Devide type: TRV\n",
            "Device ID: bfc8da7daa7a40e10dgtgk || Devide type: socket\n",
            "fstatazizi@gmail.com\n",
            "Device ID: bf0867de0cbdec04744czw || Devide type: hub\n",
            "Device ID: bf7356030aa2552ff4akq1 || Devide type: thermostat\n",
            "Device ID: bf247826822493b7052aya || Devide type: TRV\n",
            "Device ID: bfe22383bb69caf809simm || Devide type: TRV\n"
          ]
        }
      ],
      "source": [
        "for client in clients:\n",
        "    print(client['account'])\n",
        "    for device in client['devices']:\n",
        "        print(f'Device ID: {device['device_id']} || Devide type: {device['type']}')"
      ]
    },
    {
      "cell_type": "markdown",
      "metadata": {},
      "source": [
        "GET/SET Tuya Zigbee IOT Devices"
      ]
    },
    {
      "cell_type": "code",
      "execution_count": 1,
      "metadata": {},
      "outputs": [],
      "source": [
        "import hashlib\n",
        "import hmac\n",
        "import json\n",
        "import urllib\n",
        "import urllib.parse\n",
        "from urllib.request import urlopen, Request\n",
        "from datetime import datetime\n",
        "import requests\n",
        "\n",
        "BASE_URL       = \"https://openapi.tuyaeu.com\"\n",
        "LOGIN_URL      = \"/v1.0/token?grant_type=1\"\n",
        "ATTRIBUTES_URL = \"/v2.0/cloud/thing/{device_id}/shadow/properties\"\n",
        "\n",
        "def make_request(url, params=None, headers=None):\n",
        "    if params:\n",
        "        url = url + \"?\" + urllib.parse.urlencode(params)\n",
        "    request = Request(url, headers=headers or {})\n",
        "\n",
        "    try:\n",
        "        with urlopen(request, timeout=10) as response:\n",
        "            return response, response.read().decode(\"utf-8\")\n",
        "\n",
        "    except Exception as error:\n",
        "        return error, \"\"\n",
        "\n",
        "def get_timestamp(now = datetime.now()):\n",
        "    return str(int(datetime.timestamp(now)*1000))\n",
        "\n",
        "def get_sign(payload, client_secret):\n",
        "    byte_key = bytes(client_secret, 'UTF-8')\n",
        "    message = payload.encode()\n",
        "    sign = hmac.new(byte_key, message, hashlib.sha256).hexdigest()\n",
        "    return sign.upper()\n",
        "\n",
        "def get_access_token(now, client_id, client_secret):\n",
        "\n",
        "    timestamp = get_timestamp(now)\n",
        "    string_to_sign = client_id + timestamp + \"GET\\n\" + \\\n",
        "        \"e3b0c44298fc1c149afbf4c8996fb92427ae41e4649b934ca495991b7852b855\\n\" + \\\n",
        "        \"\\n\" + \\\n",
        "        LOGIN_URL\n",
        "    signed_string = get_sign(string_to_sign, client_secret)\n",
        "\n",
        "    headers = {\n",
        "            \"client_id\": client_id,\n",
        "            \"sign\": signed_string,\n",
        "            \"t\": timestamp,\n",
        "            \"mode\": \"cors\",\n",
        "            \"sign_method\": \"HMAC-SHA256\",\n",
        "            \"Content-Type\": \"application/json\"\n",
        "            }\n",
        "\n",
        "    response, body = make_request(BASE_URL + LOGIN_URL, headers = headers)\n",
        "\n",
        "    json_result = json.loads(body)[\"result\"]\n",
        "    access_token = json_result[\"access_token\"]\n",
        "    return access_token\n",
        "\n",
        "def get_status(device_id, client_id, client_secret):\n",
        "    access_token = get_access_token(datetime.now(), client_id, client_secret)\n",
        "    url = ATTRIBUTES_URL.format(device_id=device_id)\n",
        "    timestamp = get_timestamp()\n",
        "    string_to_sign = client_id + access_token + timestamp + \"GET\\n\" + \\\n",
        "        \"e3b0c44298fc1c149afbf4c8996fb92427ae41e4649b934ca495991b7852b855\\n\" + \\\n",
        "        \"\\n\" + \\\n",
        "        url\n",
        "    \n",
        "    signed_string = get_sign(string_to_sign, client_secret)\n",
        "    headers = {\n",
        "            \"client_id\": client_id,\n",
        "            \"sign\": signed_string,\n",
        "            \"access_token\": access_token,\n",
        "            \"t\": timestamp,\n",
        "            \"mode\": \"cors\",\n",
        "            \"sign_method\": \"HMAC-SHA256\",\n",
        "            \"Content-Type\": \"application/json\"\n",
        "            }\n",
        "\n",
        "    response, body = make_request(BASE_URL + url, headers = headers)\n",
        "\n",
        "    json_result = json.loads(body)\n",
        "    properties = json_result[\"result\"][\"properties\"]\n",
        "    output = list()\n",
        "    for item in properties:\n",
        "        if ('value' in item) and ('code' in item):\n",
        "            if (item['code'] == 'temp_set') or (item['code'] == 'temp_current') or (item['code'] == 'TempCurrent') or (item['code'] == 'TempSet') or (item['code'] == 'switch_1'):\n",
        "                if (item['code'] == 'temp_current') or (item['code'] == 'TempSet') or (item['code'] == 'TempCurrent'):\n",
        "                    output.append({item['code']: item['value'] / 10})\n",
        "                elif (item['code'] == 'switch_1'):\n",
        "                    if item['value'] == True:\n",
        "                        output.append({'HeatPump': 'ON'})\n",
        "                    else:\n",
        "                        output.append({'HeatPump': 'OFF'})\n",
        "                else:\n",
        "                    output.append({item['code']: item['value']})\n",
        "    return properties\n",
        "\n",
        "def set_temperature(device_id, temperature, client_id, client_secret):\n",
        "    # get_device_info = get_status(device_id)\n",
        "    # is_thermostat = any('TempSet' in d for d in get_device_info)\n",
        "    # if is_thermostat:\n",
        "    #     temperature = temperature * 10\n",
        "    access_token = get_access_token(datetime.now(), client_id, client_secret)\n",
        "    temperature = str(temperature)\n",
        "    sign_url = \"/v1.0/devices/\" + device_id + \"/commands\"\n",
        "    body_string = '{ \"commands\": [ { \"code\": \"temp_set\", \"value\": ' + temperature + ' } ] }'\n",
        "    body_string_encoded = hashlib.sha256(body_string.encode()).hexdigest()\n",
        "\n",
        "    sign_string1 = \"POST\\n\" + body_string_encoded + \"\\n\\n\" + sign_url\n",
        "    \n",
        "    timestamp = get_timestamp()\n",
        "\n",
        "    sign_string2 = client_id + access_token + timestamp + sign_string1\n",
        "    \n",
        "    command_url = \"https://openapi.tuyaeu.com/v1.0/devices/\" + device_id + \"/commands\"\n",
        "\n",
        "    signed_string = get_sign(sign_string2, client_secret)\n",
        "    \n",
        "    headers = {\n",
        "            \"client_id\": client_id,\n",
        "            \"sign\": signed_string,\n",
        "            \"access_token\": access_token,\n",
        "            \"t\": timestamp,\n",
        "            \"mode\": \"cors\",\n",
        "            \"sign_method\": \"HMAC-SHA256\",\n",
        "            \"Content-Type\": \"application/json\"\n",
        "            }\n",
        "\n",
        "    data = {\n",
        "        \"commands\": [\n",
        "            {\"code\": \"temp_set\", \"value\": temperature}\n",
        "        ]\n",
        "    }\n",
        "\n",
        "    response = requests.post(command_url, data=body_string, headers=headers)\n",
        "\n",
        "    if response.status_code == 200:\n",
        "        print('Temperature set successfully')\n",
        "    else:\n",
        "        print('Error setting temperature:', response.text)\n",
        "        \n",
        "def set_heatpump(device_id, command, client_id, client_secret):\n",
        "    access_token = get_access_token(datetime.now(), client_id, client_secret)\n",
        "    sign_url = \"/v1.0/devices/\" + device_id + \"/commands\"\n",
        "    body_string = '{ \"commands\": [ { \"code\": \"switch_1\", \"value\": ' + command + ' } ] }'\n",
        "    body_string_encoded = hashlib.sha256(body_string.encode()).hexdigest()\n",
        "    sign_string1 = \"POST\\n\" + body_string_encoded + \"\\n\\n\" + sign_url\n",
        "    \n",
        "    timestamp = get_timestamp()\n",
        "\n",
        "    sign_string2 = client_id + access_token + timestamp + sign_string1\n",
        "    \n",
        "    command_url = \"https://openapi.tuyaeu.com/v1.0/devices/\" + device_id + \"/commands\"\n",
        "\n",
        "    signed_string = get_sign(sign_string2, client_secret)\n",
        "    \n",
        "    headers = {\n",
        "            \"client_id\": client_id,\n",
        "            \"sign\": signed_string,\n",
        "            \"access_token\": access_token,\n",
        "            \"t\": timestamp,\n",
        "            \"mode\": \"cors\",\n",
        "            \"sign_method\": \"HMAC-SHA256\",\n",
        "            \"Content-Type\": \"application/json\"\n",
        "            }\n",
        "\n",
        "    response = requests.post(command_url, data=body_string, headers=headers)\n",
        "    if response.status_code == 200:\n",
        "        print('Heatpump set Successfully')\n",
        "    else:\n",
        "        print('Error setting Heatpump:', response.text)"
      ]
    },
    {
      "cell_type": "code",
      "execution_count": 2,
      "metadata": {},
      "outputs": [
        {
          "name": "stdout",
          "output_type": "stream",
          "text": [
            "[{'code': 'Power', 'custom_name': '', 'dp_id': 1, 'time': 1715268260648, 'value': True}, {'code': 'TempSet', 'custom_name': '', 'dp_id': 2, 'time': 1715271064370, 'value': 28}, {'code': 'TempCurrent', 'custom_name': '', 'dp_id': 3, 'time': 1715270509240, 'value': 61}, {'code': 'Mode', 'custom_name': '', 'dp_id': 4, 'time': 1715268596530, 'value': '1'}, {'code': 'ECO', 'custom_name': '', 'dp_id': 5, 'time': 1715268654870, 'value': False}, {'code': 'ChildLock', 'custom_name': '', 'dp_id': 6, 'time': 1715268651714, 'value': False}, {'code': 'program', 'custom_name': '', 'dp_id': 101, 'time': 1715268236300, 'value': 'AwYsAAgeHgseHg0eABEsABYeAAYoAAgoHgsoHg0oABEoABYeAAYoAAgoHgsoHg0oABEoABYe'}, {'code': 'floorTemp', 'custom_name': '', 'dp_id': 102, 'time': 1715264248266, 'value': 0}, {'code': 'tempSwitch', 'custom_name': '', 'dp_id': 103, 'time': 1715264248334, 'value': '1'}, {'code': 'floortempFunction', 'custom_name': '', 'dp_id': 104, 'time': 1715264248285, 'value': True}]\n"
          ]
        }
      ],
      "source": [
        "client_id = \"vtj3ft7hadfea5y3yvs7\"\n",
        "client_secret = \"16347a3b50984ae696e6887e4d503fa2\"\n",
        "dd = get_status('bf7356030aa2552ff4akq1', client_id, client_secret)\n",
        "print(dd)"
      ]
    },
    {
      "cell_type": "code",
      "execution_count": 3,
      "metadata": {},
      "outputs": [
        {
          "name": "stdout",
          "output_type": "stream",
          "text": [
            "Temperature set successfully\n"
          ]
        }
      ],
      "source": [
        "set_temperature('bf7356030aa2552ff4akq1', (20 * 2), client_id, client_secret)"
      ]
    },
    {
      "cell_type": "markdown",
      "metadata": {},
      "source": [
        "Listing of all the linked devices for each clients in a python \"clients\" list type variable"
      ]
    },
    {
      "cell_type": "code",
      "execution_count": 5,
      "metadata": {},
      "outputs": [],
      "source": [
        "clients = [\n",
        "    #Client -1: Saiful\n",
        "    [\"bfc6fdb8a9d07ef71cyuud\", #For convention, we will set 1st item to be HUB of that house/client\n",
        "     'bfc8da7daa7a40e10dgtgk',\n",
        "     \"bf7adcca218736d1beltu0\"],\n",
        "    #Client -2: Sas\n",
        "    [\n",
        "        \"bf0867de0cbdec04744czw\", #For convention, we will set 1st item to be HUB of that house/client\n",
        "        \"bf7356030aa2552ff4akq1\",\n",
        "        \"bf247826822493b7052aya\",\n",
        "        \"bfe22383bb69caf809simm\"\n",
        "    ]\n",
        "    \n",
        "]"
      ]
    },
    {
      "cell_type": "markdown",
      "metadata": {},
      "source": [
        "Get Device Status Client-wise"
      ]
    },
    {
      "cell_type": "code",
      "execution_count": 6,
      "metadata": {},
      "outputs": [
        {
          "name": "stdout",
          "output_type": "stream",
          "text": [
            "Client-1\n"
          ]
        },
        {
          "ename": "KeyError",
          "evalue": "'result'",
          "output_type": "error",
          "traceback": [
            "\u001b[1;31m---------------------------------------------------------------------------\u001b[0m",
            "\u001b[1;31mKeyError\u001b[0m                                  Traceback (most recent call last)",
            "Cell \u001b[1;32mIn[6], line 5\u001b[0m\n\u001b[0;32m      3\u001b[0m \u001b[38;5;28;01mfor\u001b[39;00m j \u001b[38;5;129;01min\u001b[39;00m \u001b[38;5;28mrange\u001b[39m(\u001b[38;5;28mlen\u001b[39m(clients[i])):\n\u001b[0;32m      4\u001b[0m     \u001b[38;5;28;01mif\u001b[39;00m j \u001b[38;5;241m>\u001b[39m \u001b[38;5;241m0\u001b[39m:\n\u001b[1;32m----> 5\u001b[0m         \u001b[38;5;28mprint\u001b[39m(\u001b[43mget_status\u001b[49m\u001b[43m(\u001b[49m\u001b[43mclients\u001b[49m\u001b[43m[\u001b[49m\u001b[43mi\u001b[49m\u001b[43m]\u001b[49m\u001b[43m[\u001b[49m\u001b[43mj\u001b[49m\u001b[43m]\u001b[49m\u001b[43m)\u001b[49m)\n",
            "Cell \u001b[1;32mIn[4], line 89\u001b[0m, in \u001b[0;36mget_status\u001b[1;34m(device_id)\u001b[0m\n\u001b[0;32m     86\u001b[0m response, body \u001b[38;5;241m=\u001b[39m make_request(BASE_URL \u001b[38;5;241m+\u001b[39m url, headers \u001b[38;5;241m=\u001b[39m headers)\n\u001b[0;32m     88\u001b[0m json_result \u001b[38;5;241m=\u001b[39m json\u001b[38;5;241m.\u001b[39mloads(body)\n\u001b[1;32m---> 89\u001b[0m properties \u001b[38;5;241m=\u001b[39m \u001b[43mjson_result\u001b[49m\u001b[43m[\u001b[49m\u001b[38;5;124;43m\"\u001b[39;49m\u001b[38;5;124;43mresult\u001b[39;49m\u001b[38;5;124;43m\"\u001b[39;49m\u001b[43m]\u001b[49m[\u001b[38;5;124m\"\u001b[39m\u001b[38;5;124mproperties\u001b[39m\u001b[38;5;124m\"\u001b[39m]\n\u001b[0;32m     90\u001b[0m output \u001b[38;5;241m=\u001b[39m \u001b[38;5;28mlist\u001b[39m()\n\u001b[0;32m     91\u001b[0m \u001b[38;5;28;01mfor\u001b[39;00m item \u001b[38;5;129;01min\u001b[39;00m properties:\n",
            "\u001b[1;31mKeyError\u001b[0m: 'result'"
          ]
        }
      ],
      "source": [
        "for i in range(len(clients)):\n",
        "    print(f\"Client-{i + 1}\")\n",
        "    for j in range(len(clients[i])):\n",
        "        if j > 0:\n",
        "            print(get_status(clients[i][j]))"
      ]
    },
    {
      "cell_type": "markdown",
      "metadata": {},
      "source": [
        "Setting temperature for each client we got from the Survery form (all room temperature/global)"
      ]
    },
    {
      "cell_type": "code",
      "execution_count": 7,
      "metadata": {},
      "outputs": [
        {
          "ename": "KeyError",
          "evalue": "'result'",
          "output_type": "error",
          "traceback": [
            "\u001b[1;31m---------------------------------------------------------------------------\u001b[0m",
            "\u001b[1;31mKeyError\u001b[0m                                  Traceback (most recent call last)",
            "Cell \u001b[1;32mIn[7], line 5\u001b[0m\n\u001b[0;32m      3\u001b[0m \u001b[38;5;28;01mfor\u001b[39;00m j \u001b[38;5;129;01min\u001b[39;00m \u001b[38;5;28mrange\u001b[39m(\u001b[38;5;28mlen\u001b[39m(clients[i])):\n\u001b[0;32m      4\u001b[0m     \u001b[38;5;28;01mif\u001b[39;00m j \u001b[38;5;241m>\u001b[39m \u001b[38;5;241m0\u001b[39m:\n\u001b[1;32m----> 5\u001b[0m         \u001b[38;5;28mprint\u001b[39m(\u001b[43mget_status\u001b[49m\u001b[43m(\u001b[49m\u001b[43mclients\u001b[49m\u001b[43m[\u001b[49m\u001b[43mi\u001b[49m\u001b[43m]\u001b[49m\u001b[43m[\u001b[49m\u001b[43mj\u001b[49m\u001b[43m]\u001b[49m\u001b[43m)\u001b[49m)\n\u001b[0;32m      6\u001b[0m         set_temperature(clients[i][j], set_temp[i])\n",
            "Cell \u001b[1;32mIn[4], line 89\u001b[0m, in \u001b[0;36mget_status\u001b[1;34m(device_id)\u001b[0m\n\u001b[0;32m     86\u001b[0m response, body \u001b[38;5;241m=\u001b[39m make_request(BASE_URL \u001b[38;5;241m+\u001b[39m url, headers \u001b[38;5;241m=\u001b[39m headers)\n\u001b[0;32m     88\u001b[0m json_result \u001b[38;5;241m=\u001b[39m json\u001b[38;5;241m.\u001b[39mloads(body)\n\u001b[1;32m---> 89\u001b[0m properties \u001b[38;5;241m=\u001b[39m \u001b[43mjson_result\u001b[49m\u001b[43m[\u001b[49m\u001b[38;5;124;43m\"\u001b[39;49m\u001b[38;5;124;43mresult\u001b[39;49m\u001b[38;5;124;43m\"\u001b[39;49m\u001b[43m]\u001b[49m[\u001b[38;5;124m\"\u001b[39m\u001b[38;5;124mproperties\u001b[39m\u001b[38;5;124m\"\u001b[39m]\n\u001b[0;32m     90\u001b[0m output \u001b[38;5;241m=\u001b[39m \u001b[38;5;28mlist\u001b[39m()\n\u001b[0;32m     91\u001b[0m \u001b[38;5;28;01mfor\u001b[39;00m item \u001b[38;5;129;01min\u001b[39;00m properties:\n",
            "\u001b[1;31mKeyError\u001b[0m: 'result'"
          ]
        }
      ],
      "source": [
        "set_temp = [24, 25] # 24 degree celsius for Client-1 & 25 degree celsius for Client-2\n",
        "for i in range(len(clients)):\n",
        "    for j in range(len(clients[i])):\n",
        "        if j > 0:\n",
        "            print(get_status(clients[i][j]))\n",
        "            set_temperature(clients[i][j], set_temp[i])"
      ]
    },
    {
      "cell_type": "markdown",
      "metadata": {},
      "source": [
        "Setting a particular room's temperature to 26 degree celsius for Client-2"
      ]
    },
    {
      "cell_type": "code",
      "execution_count": 8,
      "metadata": {},
      "outputs": [
        {
          "name": "stdout",
          "output_type": "stream",
          "text": [
            "Temperature set successfully\n"
          ]
        }
      ],
      "source": [
        "set_temperature(clients[1][2], 26)"
      ]
    },
    {
      "cell_type": "markdown",
      "metadata": {},
      "source": [
        "Turn on Heat pump for Client-1"
      ]
    },
    {
      "cell_type": "code",
      "execution_count": 9,
      "metadata": {},
      "outputs": [
        {
          "name": "stdout",
          "output_type": "stream",
          "text": [
            "Heatpump set Successfully\n"
          ]
        }
      ],
      "source": [
        "set_heatpump(clients[0][1], 'true')"
      ]
    },
    {
      "cell_type": "markdown",
      "metadata": {},
      "source": [
        "Turn off Heat pump for Client-1"
      ]
    },
    {
      "cell_type": "code",
      "execution_count": 10,
      "metadata": {},
      "outputs": [
        {
          "name": "stdout",
          "output_type": "stream",
          "text": [
            "Heatpump set Successfully\n"
          ]
        }
      ],
      "source": [
        "set_heatpump(clients[0][1], 'false')"
      ]
    },
    {
      "cell_type": "code",
      "execution_count": 2,
      "metadata": {},
      "outputs": [
        {
          "name": "stdout",
          "output_type": "stream",
          "text": [
            " * Serving Flask app '__main__'\n",
            " * Debug mode: on\n"
          ]
        },
        {
          "name": "stderr",
          "output_type": "stream",
          "text": [
            "WARNING: This is a development server. Do not use it in a production deployment. Use a production WSGI server instead.\n",
            " * Running on http://127.0.0.1:5000\n",
            "Press CTRL+C to quit\n",
            " * Restarting with watchdog (inotify)\n",
            "Traceback (most recent call last):\n",
            "  File \"/usr/lib/python3.10/runpy.py\", line 196, in _run_module_as_main\n",
            "    return _run_code(code, main_globals, None,\n",
            "  File \"/usr/lib/python3.10/runpy.py\", line 86, in _run_code\n",
            "    exec(code, run_globals)\n",
            "  File \"/home/aromax/.local/lib/python3.10/site-packages/ipykernel_launcher.py\", line 17, in <module>\n",
            "    app.launch_new_instance()\n",
            "  File \"/home/aromax/.local/lib/python3.10/site-packages/traitlets/config/application.py\", line 1042, in launch_instance\n",
            "    app.initialize(argv)\n",
            "  File \"/home/aromax/.local/lib/python3.10/site-packages/traitlets/config/application.py\", line 113, in inner\n",
            "    return method(app, *args, **kwargs)\n",
            "  File \"/home/aromax/.local/lib/python3.10/site-packages/ipykernel/kernelapp.py\", line 689, in initialize\n",
            "    self.init_sockets()\n",
            "  File \"/home/aromax/.local/lib/python3.10/site-packages/ipykernel/kernelapp.py\", line 328, in init_sockets\n",
            "    self.shell_port = self._bind_socket(self.shell_socket, self.shell_port)\n",
            "  File \"/home/aromax/.local/lib/python3.10/site-packages/ipykernel/kernelapp.py\", line 252, in _bind_socket\n",
            "    return self._try_bind_socket(s, port)\n",
            "  File \"/home/aromax/.local/lib/python3.10/site-packages/ipykernel/kernelapp.py\", line 228, in _try_bind_socket\n",
            "    s.bind(\"tcp://%s:%i\" % (self.ip, port))\n",
            "  File \"/home/aromax/.local/lib/python3.10/site-packages/zmq/sugar/socket.py\", line 302, in bind\n",
            "    super().bind(addr)\n",
            "  File \"zmq/backend/cython/socket.pyx\", line 564, in zmq.backend.cython.socket.Socket.bind\n",
            "  File \"zmq/backend/cython/checkrc.pxd\", line 28, in zmq.backend.cython.checkrc._check_rc\n",
            "zmq.error.ZMQError: Address already in use (addr='tcp://127.0.0.1:9002')\n"
          ]
        },
        {
          "ename": "SystemExit",
          "evalue": "1",
          "output_type": "error",
          "traceback": [
            "An exception has occurred, use %tb to see the full traceback.\n",
            "\u001b[0;31mSystemExit\u001b[0m\u001b[0;31m:\u001b[0m 1\n"
          ]
        },
        {
          "name": "stderr",
          "output_type": "stream",
          "text": [
            "/home/aromax/.local/lib/python3.10/site-packages/IPython/core/interactiveshell.py:3534: UserWarning: To exit: use 'exit', 'quit', or Ctrl-D.\n",
            "  warn(\"To exit: use 'exit', 'quit', or Ctrl-D.\", stacklevel=1)\n"
          ]
        }
      ],
      "source": [
        "from flask import Flask, request, jsonify\n",
        "\n",
        "app = Flask(__name__)\n",
        "\n",
        "TRVs = {\n",
        "    'user1': ['device1', 'device2'],\n",
        "    'user2': ['device3']\n",
        "}\n",
        "\n",
        "device_data = {\n",
        "    'device1': {'temperature': 20, 'humidity': 45},\n",
        "    'device2': {'temperature': 22, 'humidity': 50},\n",
        "    'device3': {'temperature': 19, 'humidity': 55}\n",
        "}\n",
        "\n",
        "@app.route('/get_trv_list', methods=['GET'])\n",
        "def get_trv_list():\n",
        "    user_id = request.args.get('user_id')\n",
        "    if user_id in TRVs:\n",
        "        return jsonify(TRVs[user_id])\n",
        "    else:\n",
        "        return jsonify({\"error\": \"User not found\"}), 404\n",
        "\n",
        "@app.route('/get_device_data', methods=['GET'])\n",
        "def get_device_data():\n",
        "    device_id = request.args.get('device_id')\n",
        "    if device_id in device_data:\n",
        "        return jsonify(device_data[device_id])\n",
        "    else:\n",
        "        return jsonify({\"error\": \"Device not found\"}), 404\n",
        "\n",
        "@app.route('/set_temperature', methods=['POST'])\n",
        "def set_temperature():\n",
        "    request_data = request.json\n",
        "    device_id = request_data.get('device_id')\n",
        "    set_temperature = request_data.get('set_temperature')\n",
        "    \n",
        "    if device_id in device_data:\n",
        "        device_data[device_id]['temperature'] = set_temperature\n",
        "        return jsonify({\"success\": True})\n",
        "    else:\n",
        "        return jsonify({\"error\": \"Device not found\"}), 404\n",
        "\n",
        "if __name__ == '__main__':\n",
        "    app.run(debug=True)\n"
      ]
    }
  ],
  "metadata": {
    "colab": {
      "provenance": []
    },
    "kernelspec": {
      "display_name": "Python 3",
      "name": "python3"
    },
    "language_info": {
      "codemirror_mode": {
        "name": "ipython",
        "version": 3
      },
      "file_extension": ".py",
      "mimetype": "text/x-python",
      "name": "python",
      "nbconvert_exporter": "python",
      "pygments_lexer": "ipython3",
      "version": "3.12.2"
    }
  },
  "nbformat": 4,
  "nbformat_minor": 0
}
