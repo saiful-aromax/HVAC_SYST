{
  "cells": [
    {
      "cell_type": "markdown",
      "metadata": {},
      "source": [
        "GET/SET Tuya Zigbee IOT Devices"
      ]
    },
    {
      "cell_type": "code",
      "execution_count": 1,
      "metadata": {},
      "outputs": [],
      "source": [
        "import hashlib\n",
        "import hmac\n",
        "import json\n",
        "import urllib\n",
        "import urllib.parse\n",
        "from urllib.request import urlopen, Request\n",
        "from datetime import datetime\n",
        "import requests\n",
        "from pandas import DataFrame\n",
        "\n",
        "\n",
        "BASE_URL       = \"https://openapi.tuyaeu.com\"\n",
        "LOGIN_URL      = \"/v1.0/token?grant_type=1\"\n",
        "ATTRIBUTES_URL = \"/v2.0/cloud/thing/{device_id}/shadow/properties\"\n",
        "\n",
        "client_id = \"vtj3ft7hadfea5y3yvs7\"\n",
        "client_secret = \"16347a3b50984ae696e6887e4d503fa2\"\n",
        "\n",
        "def make_request(url, params=None, headers=None):\n",
        "    if params:\n",
        "        url = url + \"?\" + urllib.parse.urlencode(params)\n",
        "    request = Request(url, headers=headers or {})\n",
        "\n",
        "    try:\n",
        "        with urlopen(request, timeout=10) as response:\n",
        "            return response, response.read().decode(\"utf-8\")\n",
        "\n",
        "    except Exception as error:\n",
        "        return error, \"\"\n",
        "\n",
        "def get_timestamp(now = datetime.now()):\n",
        "    return str(int(datetime.timestamp(now)*1000))\n",
        "\n",
        "def get_sign(payload, key):\n",
        "    byte_key = bytes(key, 'UTF-8')\n",
        "    message = payload.encode()\n",
        "    sign = hmac.new(byte_key, message, hashlib.sha256).hexdigest()\n",
        "    return sign.upper()\n",
        "\n",
        "def get_access_token(now):\n",
        "    # now = datetime.now()\n",
        "\n",
        "    timestamp = get_timestamp(now)\n",
        "    string_to_sign = client_id + timestamp + \"GET\\n\" + \\\n",
        "        \"e3b0c44298fc1c149afbf4c8996fb92427ae41e4649b934ca495991b7852b855\\n\" + \\\n",
        "        \"\\n\" + \\\n",
        "        LOGIN_URL\n",
        "    signed_string = get_sign(string_to_sign, client_secret)\n",
        "\n",
        "    headers = {\n",
        "            \"client_id\": client_id,\n",
        "            \"sign\": signed_string,\n",
        "            \"t\": timestamp,\n",
        "            \"mode\": \"cors\",\n",
        "            \"sign_method\": \"HMAC-SHA256\",\n",
        "            \"Content-Type\": \"application/json\"\n",
        "            }\n",
        "\n",
        "    response, body = make_request(BASE_URL + LOGIN_URL, headers = headers)\n",
        "\n",
        "    json_result = json.loads(body)[\"result\"]\n",
        "    access_token = json_result[\"access_token\"]\n",
        "    return access_token\n",
        "\n",
        "def get_status(device_id):\n",
        "    access_token = get_access_token(datetime.now())\n",
        "    url = ATTRIBUTES_URL.format(device_id=device_id)\n",
        "    timestamp = get_timestamp()\n",
        "    string_to_sign = client_id + access_token + timestamp + \"GET\\n\" + \\\n",
        "        \"e3b0c44298fc1c149afbf4c8996fb92427ae41e4649b934ca495991b7852b855\\n\" + \\\n",
        "        \"\\n\" + \\\n",
        "        url\n",
        "    \n",
        "    # print('aromax: ' + string_to_sign)\n",
        "    signed_string = get_sign(string_to_sign, client_secret)\n",
        "    headers = {\n",
        "            \"client_id\": client_id,\n",
        "            \"sign\": signed_string,\n",
        "            \"access_token\": access_token,\n",
        "            \"t\": timestamp,\n",
        "            \"mode\": \"cors\",\n",
        "            \"sign_method\": \"HMAC-SHA256\",\n",
        "            \"Content-Type\": \"application/json\"\n",
        "            }\n",
        "\n",
        "    response, body = make_request(BASE_URL + url, headers = headers)\n",
        "\n",
        "    json_result = json.loads(body)\n",
        "    properties = json_result[\"result\"][\"properties\"]\n",
        "    output = list()\n",
        "    for item in properties:\n",
        "        if ('value' in item) and ('code' in item):\n",
        "            if (item['code'] == 'temp_set') or (item['code'] == 'temp_current') or (item['code'] == 'TempCurrent') or (item['code'] == 'TempSet') or (item['code'] == 'switch_1'):\n",
        "                if (item['code'] == 'temp_current') or (item['code'] == 'TempSet') or (item['code'] == 'TempCurrent'):\n",
        "                    output.append({item['code']: item['value'] / 10})\n",
        "                elif (item['code'] == 'switch_1'):\n",
        "                    if item['value'] == True:\n",
        "                        output.append({'HeatPump': 'ON'})\n",
        "                    else:\n",
        "                        output.append({'HeatPump': 'OFF'})\n",
        "                else:\n",
        "                    output.append({item['code']: item['value']})\n",
        "    return output\n",
        "\n",
        "def set_temperature(device_id, temperature):\n",
        "    # get_device_info = get_status(device_id)\n",
        "    # is_thermostat = any('TempSet' in d for d in get_device_info)\n",
        "    # if is_thermostat:\n",
        "    #     temperature = temperature * 10\n",
        "    access_token = get_access_token(datetime.now())\n",
        "    temperature = str(temperature)\n",
        "    sign_url = \"/v1.0/devices/\" + device_id + \"/commands\"\n",
        "    body_string = '{ \"commands\": [ { \"code\": \"temp_set\", \"value\": ' + temperature + ' } ] }'\n",
        "    body_string_encoded = hashlib.sha256(body_string.encode()).hexdigest()\n",
        "\n",
        "    sign_string1 = \"POST\\n\" + body_string_encoded + \"\\n\\n\" + sign_url\n",
        "    \n",
        "    timestamp = get_timestamp()\n",
        "\n",
        "    sign_string2 = client_id + access_token + timestamp + sign_string1\n",
        "    \n",
        "    command_url = \"https://openapi.tuyaeu.com/v1.0/devices/\" + device_id + \"/commands\"\n",
        "\n",
        "    signed_string = get_sign(sign_string2, client_secret)\n",
        "    \n",
        "    headers = {\n",
        "            \"client_id\": client_id,\n",
        "            \"sign\": signed_string,\n",
        "            \"access_token\": access_token,\n",
        "            \"t\": timestamp,\n",
        "            \"mode\": \"cors\",\n",
        "            \"sign_method\": \"HMAC-SHA256\",\n",
        "            \"Content-Type\": \"application/json\"\n",
        "            }\n",
        "\n",
        "    data = {\n",
        "        \"commands\": [\n",
        "            {\"code\": \"temp_set\", \"value\": temperature}\n",
        "        ]\n",
        "    }\n",
        "\n",
        "    response = requests.post(command_url, data=body_string, headers=headers)\n",
        "\n",
        "    if response.status_code == 200:\n",
        "        print('Temperature set successfully')\n",
        "    else:\n",
        "        print('Error setting temperature:', response.text)\n",
        "        \n",
        "def set_heatpump(device_id, command):\n",
        "    access_token = get_access_token(datetime.now())\n",
        "    sign_url = \"/v1.0/devices/\" + device_id + \"/commands\"\n",
        "    body_string = '{ \"commands\": [ { \"code\": \"switch_1\", \"value\": ' + command + ' } ] }'\n",
        "    body_string_encoded = hashlib.sha256(body_string.encode()).hexdigest()\n",
        "    sign_string1 = \"POST\\n\" + body_string_encoded + \"\\n\\n\" + sign_url\n",
        "    \n",
        "    timestamp = get_timestamp()\n",
        "\n",
        "    sign_string2 = client_id + access_token + timestamp + sign_string1\n",
        "    \n",
        "    command_url = \"https://openapi.tuyaeu.com/v1.0/devices/\" + device_id + \"/commands\"\n",
        "\n",
        "    signed_string = get_sign(sign_string2, client_secret)\n",
        "    \n",
        "    headers = {\n",
        "            \"client_id\": client_id,\n",
        "            \"sign\": signed_string,\n",
        "            \"access_token\": access_token,\n",
        "            \"t\": timestamp,\n",
        "            \"mode\": \"cors\",\n",
        "            \"sign_method\": \"HMAC-SHA256\",\n",
        "            \"Content-Type\": \"application/json\"\n",
        "            }\n",
        "\n",
        "    response = requests.post(command_url, data=body_string, headers=headers)\n",
        "    if response.status_code == 200:\n",
        "        print('Heatpump set Successfully')\n",
        "    else:\n",
        "        print('Error setting Heatpump:', response.text)"
      ]
    },
    {
      "cell_type": "markdown",
      "metadata": {},
      "source": [
        "Listing of all the linked devices for each clients in a python \"clients\" list type variable"
      ]
    },
    {
      "cell_type": "code",
      "execution_count": 2,
      "metadata": {},
      "outputs": [],
      "source": [
        "clients = [\n",
        "    #Client -1: Saiful\n",
        "    [\"bfc6fdb8a9d07ef71cyuud\", #For convention, we will set 1st item to be HUB of that house/client\n",
        "     'bfc8da7daa7a40e10dgtgk',\n",
        "     \"bf7adcca218736d1beltu0\"],\n",
        "    #Client -2: Sas\n",
        "    [\n",
        "        \"bf0867de0cbdec04744czw\", #For convention, we will set 1st item to be HUB of that house/client\n",
        "        \"bf7356030aa2552ff4akq1\",\n",
        "        \"bf247826822493b7052aya\",\n",
        "        \"bfe22383bb69caf809simm\"\n",
        "    ]\n",
        "    \n",
        "]"
      ]
    },
    {
      "cell_type": "markdown",
      "metadata": {},
      "source": [
        "Get Device Status Client-wise"
      ]
    },
    {
      "cell_type": "code",
      "execution_count": 3,
      "metadata": {},
      "outputs": [
        {
          "name": "stdout",
          "output_type": "stream",
          "text": [
            "Client-1\n",
            "[{'HeatPump': 'ON'}]\n",
            "[{'temp_set': 24}, {'temp_current': 18.0}]\n",
            "Client-2\n",
            "[{'TempSet': 2.7}, {'TempCurrent': 5.3}]\n",
            "[{'temp_set': 24}, {'temp_current': 11.0}]\n",
            "[{'temp_set': 25}, {'temp_current': 13.0}]\n"
          ]
        }
      ],
      "source": [
        "for i in range(len(clients)):\n",
        "    print(f\"Client-{i + 1}\")\n",
        "    for j in range(len(clients[i])):\n",
        "        if j > 0:\n",
        "            print(get_status(clients[i][j]))"
      ]
    },
    {
      "cell_type": "markdown",
      "metadata": {},
      "source": [
        "Setting temperature for each client we got from the Survery form (all room temperature/global)"
      ]
    },
    {
      "cell_type": "code",
      "execution_count": 4,
      "metadata": {},
      "outputs": [
        {
          "name": "stdout",
          "output_type": "stream",
          "text": [
            "[{'temp_set': 24}, {'temp_current': 18.0}]\n",
            "Temperature set successfully\n",
            "[{'TempSet': 2.7}, {'TempCurrent': 5.3}]\n",
            "Temperature set successfully\n",
            "[{'temp_set': 24}, {'temp_current': 11.0}]\n",
            "Temperature set successfully\n",
            "[{'temp_set': 25}, {'temp_current': 13.0}]\n",
            "Temperature set successfully\n"
          ]
        }
      ],
      "source": [
        "set_temp = [24, 25] # 24 degree celsius for Client-1 & 25 degree celsius for Client-2\n",
        "for i in range(len(clients)):\n",
        "    for j in range(len(clients[i])):\n",
        "        if j > 0:\n",
        "            print(get_status(clients[i][j]))\n",
        "            set_temperature(clients[i][j], set_temp[i])"
      ]
    },
    {
      "cell_type": "markdown",
      "metadata": {},
      "source": [
        "Setting a particular room's temperature to 26 degree celsius for Client-2"
      ]
    },
    {
      "cell_type": "code",
      "execution_count": 5,
      "metadata": {},
      "outputs": [
        {
          "name": "stdout",
          "output_type": "stream",
          "text": [
            "Temperature set successfully\n"
          ]
        }
      ],
      "source": [
        "set_temperature(clients[1][2], 26)"
      ]
    },
    {
      "cell_type": "markdown",
      "metadata": {},
      "source": [
        "Turn on Heat pump for Client-1"
      ]
    },
    {
      "cell_type": "code",
      "execution_count": 6,
      "metadata": {},
      "outputs": [
        {
          "name": "stdout",
          "output_type": "stream",
          "text": [
            "Heatpump set Successfully\n"
          ]
        }
      ],
      "source": [
        "set_heatpump(clients[0][1], 'true')"
      ]
    },
    {
      "cell_type": "markdown",
      "metadata": {},
      "source": [
        "Turn off Heat pump for Client-1"
      ]
    },
    {
      "cell_type": "code",
      "execution_count": 7,
      "metadata": {},
      "outputs": [
        {
          "name": "stdout",
          "output_type": "stream",
          "text": [
            "Heatpump set Successfully\n"
          ]
        }
      ],
      "source": [
        "set_heatpump(clients[0][1], 'false')"
      ]
    }
  ],
  "metadata": {
    "colab": {
      "provenance": []
    },
    "kernelspec": {
      "display_name": "Python 3",
      "name": "python3"
    },
    "language_info": {
      "codemirror_mode": {
        "name": "ipython",
        "version": 3
      },
      "file_extension": ".py",
      "mimetype": "text/x-python",
      "name": "python",
      "nbconvert_exporter": "python",
      "pygments_lexer": "ipython3",
      "version": "3.12.2"
    }
  },
  "nbformat": 4,
  "nbformat_minor": 0
}
